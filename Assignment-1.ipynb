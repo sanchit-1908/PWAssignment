{
 "cells": [
  {
   "cell_type": "markdown",
   "id": "8ea6aef2-1222-4073-8e9f-453df958fb86",
   "metadata": {},
   "source": [
    "Q1. Create one variable containing following type of data:\n",
    "(i) string\n",
    "(ii) list\n",
    "(iii) float\n",
    "(iv) tuple\n",
    "\n",
    "\n",
    "Ans : "
   ]
  },
  {
   "cell_type": "code",
   "execution_count": 1,
   "id": "27e14a12-f759-41bc-9593-a5a0f6461bcf",
   "metadata": {},
   "outputs": [],
   "source": [
    "s = \"string \" \n",
    "l = [1,2,3,\"sanchit\",\"sudhakar\"]\n",
    "k = 34.49494\n",
    "m = (4,3,32,45,\"sanchit\") "
   ]
  },
  {
   "cell_type": "code",
   "execution_count": 6,
   "id": "8935e9d9-e211-4fe6-ba3f-9418e1d50855",
   "metadata": {},
   "outputs": [
    {
     "name": "stdout",
     "output_type": "stream",
     "text": [
      "<class 'str'>\n",
      "<class 'list'>\n",
      "<class 'float'>\n",
      "<class 'tuple'>\n"
     ]
    }
   ],
   "source": [
    "print(type(s))\n",
    "print(type(l))\n",
    "print(type(k))\n",
    "print(type(m))"
   ]
  },
  {
   "cell_type": "markdown",
   "id": "759a61b5-9f43-4424-ba8c-0a72b09bd964",
   "metadata": {},
   "source": [
    "Q2. Given are some following variables containing data:\n",
    "(i) var1 = ‘ ‘\n",
    "(ii) var2 = '[ DS , ML , Python]'\n",
    "(iii) var3 = [ ‘DS’ , ’ML’ , ‘Python’ ]\n",
    "(iv) var4 = 1.\n",
    "\n",
    "Ans :\n",
    "\n",
    "i) string\n",
    "ii) string \n",
    "iii) list\n",
    "iv) int \n",
    "\n"
   ]
  },
  {
   "cell_type": "markdown",
   "id": "698bd107-6648-4206-8fd4-d8191e67c5ff",
   "metadata": {},
   "source": [
    "Q3. Explain the use of the following operators using an example:\n",
    "(i) /\n",
    "(ii) %\n",
    "(iii) //\n",
    "(iv) **\n",
    "\n",
    "i) it is used to divide and returns answer in float.\n",
    "   ex : 5/4 gives 1.25\n",
    "ii) it is used to get the remainder.\n",
    "        ex: 5%4 gives 1\n",
    "iii) is is used to get only the quotient .\n",
    "        5//4 = 1\n",
    "iv)  it is used to get the exponent of the numbers.\n",
    " 5**4 gives 625"
   ]
  },
  {
   "cell_type": "code",
   "execution_count": 7,
   "id": "8e5c1a87-1c26-41f6-9ce6-1066766bd379",
   "metadata": {},
   "outputs": [
    {
     "data": {
      "text/plain": [
       "625"
      ]
     },
     "execution_count": 7,
     "metadata": {},
     "output_type": "execute_result"
    }
   ],
   "source": [
    "5**4"
   ]
  },
  {
   "cell_type": "code",
   "execution_count": 8,
   "id": "9beaa9e8-1727-41c6-9633-b8370a82a15b",
   "metadata": {},
   "outputs": [
    {
     "data": {
      "text/plain": [
       "1"
      ]
     },
     "execution_count": 8,
     "metadata": {},
     "output_type": "execute_result"
    }
   ],
   "source": [
    "5//4"
   ]
  },
  {
   "cell_type": "code",
   "execution_count": 9,
   "id": "25da254d-2992-42c0-a514-9485b07e7dab",
   "metadata": {},
   "outputs": [
    {
     "data": {
      "text/plain": [
       "1.25"
      ]
     },
     "execution_count": 9,
     "metadata": {},
     "output_type": "execute_result"
    }
   ],
   "source": [
    "5/4"
   ]
  },
  {
   "cell_type": "code",
   "execution_count": 10,
   "id": "70f6ce6d-a97d-4b21-ac46-809ce716687f",
   "metadata": {},
   "outputs": [
    {
     "data": {
      "text/plain": [
       "1"
      ]
     },
     "execution_count": 10,
     "metadata": {},
     "output_type": "execute_result"
    }
   ],
   "source": [
    "5%4"
   ]
  },
  {
   "cell_type": "markdown",
   "id": "cd5b2070-ba97-4938-8e2b-1209453f6f62",
   "metadata": {},
   "source": [
    "Q4. Create a list of length 10 of your choice containing multiple types of data. Using for loop print the\n",
    "element and its data type.\n",
    "\n",
    "Ans:"
   ]
  },
  {
   "cell_type": "code",
   "execution_count": 19,
   "id": "761c1795-7676-4fe4-a410-fc39e6887ee8",
   "metadata": {},
   "outputs": [],
   "source": [
    "o = [1,2,3,4,5,'ok','no','yes','hello','hi']"
   ]
  },
  {
   "cell_type": "code",
   "execution_count": 20,
   "id": "aa4c7e8d-dd40-4942-afa8-ebdaea4c75ac",
   "metadata": {},
   "outputs": [
    {
     "name": "stdout",
     "output_type": "stream",
     "text": [
      "1\n",
      " \n",
      "<class 'int'>\n",
      "2\n",
      " \n",
      "<class 'int'>\n",
      "3\n",
      " \n",
      "<class 'int'>\n",
      "4\n",
      " \n",
      "<class 'int'>\n",
      "5\n",
      " \n",
      "<class 'int'>\n",
      "ok\n",
      " \n",
      "<class 'str'>\n",
      "no\n",
      " \n",
      "<class 'str'>\n",
      "yes\n",
      " \n",
      "<class 'str'>\n",
      "hello\n",
      " \n",
      "<class 'str'>\n",
      "hi\n",
      " \n",
      "<class 'str'>\n"
     ]
    }
   ],
   "source": [
    "for i in o:\n",
    "    print(i)\n",
    "    print(\" \")\n",
    "    print(type(i))\n",
    "    "
   ]
  },
  {
   "cell_type": "markdown",
   "id": "bcff3e19-1e38-4e6a-acb4-efb44cd480a2",
   "metadata": {},
   "source": [
    "Q5. Using a while loop, verify if the number A is purely divisible by number B and if so then how many\n",
    "times it can be divisible."
   ]
  },
  {
   "cell_type": "code",
   "execution_count": 16,
   "id": "a611e372-add6-4b50-8d66-1f555ba2ee6c",
   "metadata": {},
   "outputs": [
    {
     "name": "stdin",
     "output_type": "stream",
     "text": [
      "Enter the value of a 64\n",
      "Enter the value of b 2\n"
     ]
    },
    {
     "name": "stdout",
     "output_type": "stream",
     "text": [
      "6\n"
     ]
    }
   ],
   "source": [
    "a = int(input(\"Enter the value of a\"))\n",
    "b = int(input(\"Enter the value of b\"))\n",
    "c=0\n",
    "\n",
    "if(a%b==0):\n",
    "    while(a%b==0):\n",
    "        c+=1\n",
    "        a/=b\n",
    "    print(c)\n",
    "else:\n",
    "    print(\"a not divisible by b\")\n",
    "    \n",
    "    "
   ]
  },
  {
   "cell_type": "markdown",
   "id": "3f920936-d0e1-4282-a9a3-7f77e938507f",
   "metadata": {},
   "source": [
    "Q6. Create a list containing 25 int type data. Using for loop and if-else condition print if the element is\n",
    "divisible by 3 or not.\n"
   ]
  },
  {
   "cell_type": "code",
   "execution_count": 21,
   "id": "88f570d4-9862-4063-9d8f-51c63cb44507",
   "metadata": {},
   "outputs": [],
   "source": [
    "t = list(range(25))"
   ]
  },
  {
   "cell_type": "code",
   "execution_count": 22,
   "id": "c028a784-69e9-4956-ac35-2567a6c040e1",
   "metadata": {},
   "outputs": [
    {
     "data": {
      "text/plain": [
       "[0,\n",
       " 1,\n",
       " 2,\n",
       " 3,\n",
       " 4,\n",
       " 5,\n",
       " 6,\n",
       " 7,\n",
       " 8,\n",
       " 9,\n",
       " 10,\n",
       " 11,\n",
       " 12,\n",
       " 13,\n",
       " 14,\n",
       " 15,\n",
       " 16,\n",
       " 17,\n",
       " 18,\n",
       " 19,\n",
       " 20,\n",
       " 21,\n",
       " 22,\n",
       " 23,\n",
       " 24]"
      ]
     },
     "execution_count": 22,
     "metadata": {},
     "output_type": "execute_result"
    }
   ],
   "source": [
    "t"
   ]
  },
  {
   "cell_type": "code",
   "execution_count": 27,
   "id": "7d37e359-09f1-4a35-8e8d-530c2bc3d753",
   "metadata": {},
   "outputs": [
    {
     "name": "stdout",
     "output_type": "stream",
     "text": [
      "0 is divisible\n",
      "1 is not divisible\n",
      "2 is not divisible\n",
      "3 is divisible\n",
      "4 is not divisible\n",
      "5 is not divisible\n",
      "6 is divisible\n",
      "7 is not divisible\n",
      "8 is not divisible\n",
      "9 is divisible\n",
      "10 is not divisible\n",
      "11 is not divisible\n",
      "12 is divisible\n",
      "13 is not divisible\n",
      "14 is not divisible\n",
      "15 is divisible\n",
      "16 is not divisible\n",
      "17 is not divisible\n",
      "18 is divisible\n",
      "19 is not divisible\n",
      "20 is not divisible\n",
      "21 is divisible\n",
      "22 is not divisible\n",
      "23 is not divisible\n",
      "24 is divisible\n"
     ]
    }
   ],
   "source": [
    "for i in t:\n",
    "    if(i%3==0):\n",
    "        print(str(i) +\" is divisible\")\n",
    "    else:\n",
    "        print(str(i) +\" is not divisible\")\n",
    "        "
   ]
  },
  {
   "cell_type": "markdown",
   "id": "38388840-7461-49fd-811a-d1150e8660d4",
   "metadata": {},
   "source": [
    "Q7. What do you understand about mutable and immutable data types? Give examples for both showing\n",
    "this property.\n",
    "\n",
    "Ans:\n",
    "\n",
    "mutable are those types whose elements can be changed. ex :list\n",
    "\n",
    "But immutable, unlike mutable cannot be changed.  ex : tuple\n"
   ]
  },
  {
   "cell_type": "code",
   "execution_count": 30,
   "id": "defb509a-89f2-4cb0-a926-c4362430edea",
   "metadata": {},
   "outputs": [
    {
     "name": "stdout",
     "output_type": "stream",
     "text": [
      "[2, 3, 4, 55]\n"
     ]
    }
   ],
   "source": [
    "q = [2,3,4,4]\n",
    "q[3] = 55\n",
    "\n",
    "print(q)\n"
   ]
  },
  {
   "cell_type": "code",
   "execution_count": 31,
   "id": "96ae4ee1-6298-4a3e-88e1-7f98c218c4bf",
   "metadata": {},
   "outputs": [
    {
     "ename": "TypeError",
     "evalue": "'tuple' object does not support item assignment",
     "output_type": "error",
     "traceback": [
      "\u001b[0;31m---------------------------------------------------------------------------\u001b[0m",
      "\u001b[0;31mTypeError\u001b[0m                                 Traceback (most recent call last)",
      "Cell \u001b[0;32mIn[31], line 2\u001b[0m\n\u001b[1;32m      1\u001b[0m r \u001b[38;5;241m=\u001b[39m(\u001b[38;5;241m2\u001b[39m,\u001b[38;5;241m4\u001b[39m,\u001b[38;5;241m5\u001b[39m,\u001b[38;5;241m5\u001b[39m)\n\u001b[0;32m----> 2\u001b[0m \u001b[43mr\u001b[49m\u001b[43m[\u001b[49m\u001b[38;5;241;43m3\u001b[39;49m\u001b[43m]\u001b[49m \u001b[38;5;241m=\u001b[39m \u001b[38;5;241m86\u001b[39m\n\u001b[1;32m      3\u001b[0m \u001b[38;5;28mprint\u001b[39m(r)\n",
      "\u001b[0;31mTypeError\u001b[0m: 'tuple' object does not support item assignment"
     ]
    }
   ],
   "source": [
    "r =(2,4,5,5)\n",
    "r[3] = 86\n",
    "print(r)"
   ]
  },
  {
   "cell_type": "code",
   "execution_count": null,
   "id": "ae06d72f-d4f4-4f67-9575-08ec6cc33f57",
   "metadata": {},
   "outputs": [],
   "source": []
  }
 ],
 "metadata": {
  "kernelspec": {
   "display_name": "Python 3 (ipykernel)",
   "language": "python",
   "name": "python3"
  },
  "language_info": {
   "codemirror_mode": {
    "name": "ipython",
    "version": 3
   },
   "file_extension": ".py",
   "mimetype": "text/x-python",
   "name": "python",
   "nbconvert_exporter": "python",
   "pygments_lexer": "ipython3",
   "version": "3.10.8"
  }
 },
 "nbformat": 4,
 "nbformat_minor": 5
}

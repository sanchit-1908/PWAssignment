{
 "cells": [
  {
   "cell_type": "markdown",
   "id": "7f6e701c-1c93-4522-9e64-fd8675221c3d",
   "metadata": {},
   "source": [
    "# Machine Learning - 1 Assignment"
   ]
  },
  {
   "cell_type": "markdown",
   "id": "ca312312-da5e-4b54-98d2-84646fd7d349",
   "metadata": {},
   "source": [
    "Q1- Explain thK following with an Example\n",
    "\n",
    "1. Artifcial Intelligence \n",
    "\n",
    "It is basically broad category consisting of Machine Learning and Deep Learning.\n",
    "It mainly consits of building an application which has all intelligent features such as Reasoning, Learning, Searching, Observing and also Action.\n",
    "\n",
    "2.Machine Learning \n",
    "\n",
    "It is just a subset of Artificial Intellligence which mainly emphasize on learning part by using various statistical models and performing prediction using that.\n",
    "\n",
    "3.Deep Learning \n",
    "\n",
    "It is just mimicing the human brain and using it to learn similar to humans.\n",
    "\n",
    "\n"
   ]
  },
  {
   "cell_type": "markdown",
   "id": "fa752a85-bdc7-408b-a2e1-9aa2cbbecca9",
   "metadata": {},
   "source": [
    "Q2- What is supervised learning? List some Examples of supervised learning.\n",
    "\n",
    "It is basically traing a model using dataset along with output values, so that the model could learn by comparing the actual and predicted outputs.\n",
    "\n",
    "Ex: Prediction tasks like giving some features and predicting the output. It contains linear regression and classification.\n",
    "classifying into categories based on input features is also an example."
   ]
  },
  {
   "cell_type": "markdown",
   "id": "3c905ca3-acdb-4fdd-8a72-87ecec93f3b5",
   "metadata": {},
   "source": [
    "Q3- What is unsupervised learning? List some examples of unsupervised learning.\n",
    "\n",
    "It is basically training a learning a model with input features but no output labels. It is basically grouping of datasets based on closeness and similarity.\n",
    "\n",
    "ex : grouping of fruits based on features."
   ]
  },
  {
   "cell_type": "markdown",
   "id": "6fda4a07-4ea6-4269-9f11-86f9a793610f",
   "metadata": {},
   "source": [
    "Q4- What is the difference between AI, ML, DL, and DS?\n",
    "\n",
    "AI is the super set with subset of ML and DL where DL is itself a subset of ML. DS is a collection of both AI, ML and DL."
   ]
  },
  {
   "cell_type": "markdown",
   "id": "62d8fafc-a23f-4cad-8acd-0df54c858dfc",
   "metadata": {},
   "source": [
    "Q5- What arK the main differences between supervised, unsupervised, and semi-supervised learning?\n",
    "\n",
    "supervised is basically traing a model using dataset along with output values.\n",
    "unsupervised basically training a learning a model with input features but no output labels.\n",
    "semi supervised is combination of both supervised and unsupervised.\n",
    "\n"
   ]
  },
  {
   "cell_type": "markdown",
   "id": "fa39874f-4d5c-4591-836c-1f4b6a84162f",
   "metadata": {},
   "source": [
    "Q6- What is train, test and validation split? Explain the importance of each term.\n",
    "\n",
    "Every dataset is split into three categories that is train dataset, test dataset and validation dataset.\n",
    "\n",
    "train dataset is used only for training.\n",
    "validation is used for hyperparameter tuning. And test is only to test and measure accuracy.\n"
   ]
  },
  {
   "cell_type": "markdown",
   "id": "cf91e009-53e8-455d-8f7e-a876f6c3d790",
   "metadata": {},
   "source": [
    "Q7- How can unsupervised learning be used in anomaly detection?\n",
    "\n",
    "Anomaly detection is the identification of rare events, items, or observations which are suspicious because they differ significantly from standard behaviors or patterns.\n",
    "\n",
    "So it will be outlyer points and can be grouped in a different group with similarity.So unsupervised learning can be used to group the anomaly separately.\n"
   ]
  },
  {
   "cell_type": "markdown",
   "id": "39c29ab6-5c35-4a76-ba26-427d59d3e7a9",
   "metadata": {},
   "source": [
    "Q8- List down somK commonly used supervised learning algorithms and unsupervisKd lKarning\n",
    "algorithms."
   ]
  }
 ],
 "metadata": {
  "kernelspec": {
   "display_name": "Python 3 (ipykernel)",
   "language": "python",
   "name": "python3"
  },
  "language_info": {
   "codemirror_mode": {
    "name": "ipython",
    "version": 3
   },
   "file_extension": ".py",
   "mimetype": "text/x-python",
   "name": "python",
   "nbconvert_exporter": "python",
   "pygments_lexer": "ipython3",
   "version": "3.10.8"
  }
 },
 "nbformat": 4,
 "nbformat_minor": 5
}
